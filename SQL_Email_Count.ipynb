{
 "cells": [
  {
   "cell_type": "code",
   "execution_count": 1,
   "id": "324c7b13",
   "metadata": {
    "scrolled": true
   },
   "outputs": [
    {
     "name": "stdout",
     "output_type": "stream",
     "text": [
      "Enter file name: mbox.txt\n",
      "Counts:\n",
      "iupui.edu 8\n",
      "umich.edu 7\n",
      "uct.ac.za 6\n",
      "media.berkeley.edu 4\n",
      "caret.cam.ac.uk 1\n",
      "gmail.com 1\n"
     ]
    }
   ],
   "source": [
    "import mysql.connector\n",
    "import re\n",
    "\n",
    "\n",
    "def clean_domain(d):\n",
    "    d = d.strip().lower()\n",
    "    d = re.sub(r'[;!?()]', '', d)\n",
    "    return d\n",
    "\n",
    "\n",
    "def process_mbox(file_name):\n",
    "    domain_count = {}\n",
    "    with open(file_name, 'r') as file:\n",
    "        for l in file:\n",
    "            if l.startswith('From '):\n",
    "                email_address = l.split()[1]\n",
    "                domain_name = email_address.split('@')[-1]\n",
    "                domain_name = clean_domain(domain_name)\n",
    "                if domain_name in domain_count:\n",
    "                    domain_count[domain_name] += 1\n",
    "                else:\n",
    "                    domain_count[domain_name] = 1\n",
    "\n",
    "    return domain_count\n",
    "\n",
    "\n",
    "def store_in_database(domain_counts):\n",
    "    connection = mysql.connector.connect(\n",
    "        host=\"localhost\",\n",
    "        user=\"root\",    \n",
    "        password=\"Root@123\",\n",
    "        database=\"Eduonix_Project\" \n",
    "    )\n",
    "    cursor = connection.cursor()\n",
    "    cursor.execute('DROP TABLE IF EXISTS Counts')\n",
    "    cursor.execute('''\n",
    "        CREATE TABLE Counts (\n",
    "            org VARCHAR(255), \n",
    "            count INT\n",
    "        )\n",
    "    ''')\n",
    "\n",
    "    for domain, count in domain_counts.items():\n",
    "        cursor.execute('INSERT INTO Counts (org, count) VALUES (%s, %s)', (domain, count))\n",
    "\n",
    "    connection.commit()\n",
    "    connection.close()\n",
    "\n",
    "def display_results():\n",
    "    connection = mysql.connector.connect(\n",
    "        host=\"localhost\",\n",
    "        user=\"root\",    \n",
    "        password=\"Root@123\",\n",
    "        database=\"Eduonix_Project\"\n",
    "    )\n",
    "    cursor = connection.cursor()\n",
    "\n",
    "    cursor.execute('SELECT org, count FROM Counts ORDER BY count DESC')\n",
    "\n",
    "    print(\"Counts:\")\n",
    "    for row in cursor:\n",
    "        print(f\"{row[0]} {row[1]}\")\n",
    "\n",
    "    connection.close()\n",
    "\n",
    "\n",
    "def main():\n",
    "    file_name = input(\"Enter file name: \")\n",
    "    domain_counts = process_mbox(file_name)\n",
    "    store_in_database(domain_counts)\n",
    "    display_results()\n",
    "\n",
    "main()\n"
   ]
  }
 ],
 "metadata": {
  "kernelspec": {
   "display_name": "Python 3 (ipykernel)",
   "language": "python",
   "name": "python3"
  },
  "language_info": {
   "codemirror_mode": {
    "name": "ipython",
    "version": 3
   },
   "file_extension": ".py",
   "mimetype": "text/x-python",
   "name": "python",
   "nbconvert_exporter": "python",
   "pygments_lexer": "ipython3",
   "version": "3.9.13"
  }
 },
 "nbformat": 4,
 "nbformat_minor": 5
}
